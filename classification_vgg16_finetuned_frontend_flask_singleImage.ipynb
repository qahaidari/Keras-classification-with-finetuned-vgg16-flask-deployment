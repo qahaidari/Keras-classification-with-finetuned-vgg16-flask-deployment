{
  "nbformat": 4,
  "nbformat_minor": 0,
  "metadata": {
    "colab": {
      "name": "classification-vgg16-finetuned-frontend-flask-singleImage.ipynb",
      "provenance": [],
      "collapsed_sections": [],
      "authorship_tag": "ABX9TyMfANDgxnTr/8RI7I4lwdIY",
      "include_colab_link": true
    },
    "kernelspec": {
      "name": "python3",
      "display_name": "Python 3"
    }
  },
  "cells": [
    {
      "cell_type": "markdown",
      "metadata": {
        "id": "view-in-github",
        "colab_type": "text"
      },
      "source": [
        "<a href=\"https://colab.research.google.com/github/qahaidari/Keras-classification-with-finetuned-vgg16-flask-deployment/blob/main/classification_vgg16_finetuned_frontend_flask_singleImage.ipynb\" target=\"_parent\"><img src=\"https://colab.research.google.com/assets/colab-badge.svg\" alt=\"Open In Colab\"/></a>"
      ]
    },
    {
      "cell_type": "code",
      "metadata": {
        "colab": {
          "base_uri": "https://localhost:8080/"
        },
        "id": "JQkyxr3GRq6z",
        "outputId": "ba2d5c2e-6208-4911-bae8-7be91a44c8f9"
      },
      "source": [
        "from google.colab import drive\n",
        "drive.mount('/content/drive')"
      ],
      "execution_count": 1,
      "outputs": [
        {
          "output_type": "stream",
          "text": [
            "Mounted at /content/drive\n"
          ],
          "name": "stdout"
        }
      ]
    },
    {
      "cell_type": "code",
      "metadata": {
        "colab": {
          "base_uri": "https://localhost:8080/"
        },
        "id": "J-knUXPTRzbW",
        "outputId": "32517d54-80a1-4e51-a265-27e64ed0e9fc"
      },
      "source": [
        "!pip install flask-ngrok"
      ],
      "execution_count": 2,
      "outputs": [
        {
          "output_type": "stream",
          "text": [
            "Collecting flask-ngrok\n",
            "  Downloading https://files.pythonhosted.org/packages/af/6c/f54cb686ad1129e27d125d182f90f52b32f284e6c8df58c1bae54fa1adbc/flask_ngrok-0.0.25-py3-none-any.whl\n",
            "Requirement already satisfied: requests in /usr/local/lib/python3.7/dist-packages (from flask-ngrok) (2.23.0)\n",
            "Requirement already satisfied: Flask>=0.8 in /usr/local/lib/python3.7/dist-packages (from flask-ngrok) (1.1.2)\n",
            "Requirement already satisfied: certifi>=2017.4.17 in /usr/local/lib/python3.7/dist-packages (from requests->flask-ngrok) (2020.12.5)\n",
            "Requirement already satisfied: idna<3,>=2.5 in /usr/local/lib/python3.7/dist-packages (from requests->flask-ngrok) (2.10)\n",
            "Requirement already satisfied: urllib3!=1.25.0,!=1.25.1,<1.26,>=1.21.1 in /usr/local/lib/python3.7/dist-packages (from requests->flask-ngrok) (1.24.3)\n",
            "Requirement already satisfied: chardet<4,>=3.0.2 in /usr/local/lib/python3.7/dist-packages (from requests->flask-ngrok) (3.0.4)\n",
            "Requirement already satisfied: click>=5.1 in /usr/local/lib/python3.7/dist-packages (from Flask>=0.8->flask-ngrok) (7.1.2)\n",
            "Requirement already satisfied: Jinja2>=2.10.1 in /usr/local/lib/python3.7/dist-packages (from Flask>=0.8->flask-ngrok) (2.11.3)\n",
            "Requirement already satisfied: Werkzeug>=0.15 in /usr/local/lib/python3.7/dist-packages (from Flask>=0.8->flask-ngrok) (1.0.1)\n",
            "Requirement already satisfied: itsdangerous>=0.24 in /usr/local/lib/python3.7/dist-packages (from Flask>=0.8->flask-ngrok) (1.1.0)\n",
            "Requirement already satisfied: MarkupSafe>=0.23 in /usr/local/lib/python3.7/dist-packages (from Jinja2>=2.10.1->Flask>=0.8->flask-ngrok) (1.1.1)\n",
            "Installing collected packages: flask-ngrok\n",
            "Successfully installed flask-ngrok-0.0.25\n"
          ],
          "name": "stdout"
        }
      ]
    },
    {
      "cell_type": "markdown",
      "metadata": {
        "id": "QkQ-utB7q8e-"
      },
      "source": [
        "In the below code, the URL of the currently running backend service is inserted for the HTTP POST method. "
      ]
    },
    {
      "cell_type": "code",
      "metadata": {
        "id": "Hx45keQDR2D8",
        "colab": {
          "base_uri": "https://localhost:8080/"
        },
        "outputId": "79e8a35d-b9ec-4edf-e2be-6bed9f9828be"
      },
      "source": [
        "# a simple frontend with flask for sending a text to backend for processing\n",
        "from flask_ngrok import run_with_ngrok\n",
        "from flask import Flask\n",
        "\n",
        "app = Flask(__name__)\n",
        "run_with_ngrok(app)   #starts ngrok when the app is run\n",
        "@app.route(\"/\")\n",
        "def home():\n",
        "\n",
        "    return '''<head>\n",
        "                <title>A simple web application with Flask</title>\n",
        "                <style>\n",
        "                  * {\n",
        "                      font-size:15px;\n",
        "                  }\n",
        "                </style>\n",
        "              </head>\n",
        "              \n",
        "              <body>\n",
        "                <input id=\"name-input\" type=\"text\"/>\n",
        "                <button id=\"name-button\">Submit Name</button>\n",
        "                <p id=\"greeting\"></p>\n",
        "                <script src=\"https://code.jquery.com/jquery-3.3.1.min.js\"></script>\n",
        "                <script>\n",
        "                  $(\"#name-button\").click(function(event){\n",
        "                    let message = {\n",
        "                      name: $(\"#name-input\").val()\n",
        "                    }\n",
        "                    $.post(\"http://bc746e24d65a.ngrok.io\", JSON.stringify(message), function(response){\n",
        "                      $(\"#greeting\").text(response.greeting);\n",
        "                      console.log(response); \n",
        "                    });\n",
        "                  });\n",
        "                </script>\n",
        "              </body>'''\n",
        "\n",
        "app.run()"
      ],
      "execution_count": 4,
      "outputs": [
        {
          "output_type": "stream",
          "text": [
            " * Serving Flask app \"__main__\" (lazy loading)\n",
            " * Environment: production\n",
            "\u001b[31m   WARNING: This is a development server. Do not use it in a production deployment.\u001b[0m\n",
            "\u001b[2m   Use a production WSGI server instead.\u001b[0m\n",
            " * Debug mode: off\n"
          ],
          "name": "stdout"
        },
        {
          "output_type": "stream",
          "text": [
            " * Running on http://127.0.0.1:5000/ (Press CTRL+C to quit)\n"
          ],
          "name": "stderr"
        },
        {
          "output_type": "stream",
          "text": [
            " * Running on http://ac4a2088e54c.ngrok.io\n",
            " * Traffic stats available on http://127.0.0.1:4040\n"
          ],
          "name": "stdout"
        }
      ]
    },
    {
      "cell_type": "code",
      "metadata": {
        "colab": {
          "base_uri": "https://localhost:8080/"
        },
        "id": "QAAq3ej3l0nB",
        "outputId": "c8c0a1e0-db34-438b-abce-c8201bcbf188"
      },
      "source": [
        "# A web application running on Flask to send one image of cats or dogs to a finetuned VGG16 model running on Flask\n",
        "from flask_ngrok import run_with_ngrok\n",
        "from flask import Flask\n",
        "\n",
        "app = Flask(__name__)\n",
        "run_with_ngrok(app)   #starts ngrok when the app is run\n",
        "@app.route(\"/\")\n",
        "def home():\n",
        "\n",
        "    return '''<head>\n",
        "                <title>Transfer learning with VGG16 for one image</title>\n",
        "                <style>\n",
        "                  * {\n",
        "                      font-size:15px;\n",
        "                  }\n",
        "                </style>\n",
        "              </head>\n",
        "              \n",
        "              <body>\n",
        "                <input id=\"image-selector\" type=\"file\">    \n",
        "                <button id=\"predict-button\">Predict</button>\n",
        "                <p style=\"font-weight:bold\">Predictions</p>    \n",
        "                <p>Dog: <span id=\"dog-prediction\"></span></p>\n",
        "                <p>Cat: <span id=\"cat-prediction\"></span></p>\n",
        "                <img id=\"selected-image\" src=\"\"/>\n",
        "\n",
        "                <script src=\"https://code.jquery.com/jquery-3.3.1.min.js\"></script>\n",
        "                <script>\n",
        "                  let base64Image;\n",
        "                  $(\"#image-selector\").change(function() {\n",
        "                    let reader = new FileReader();\n",
        "                    reader.onload = function(e) {\n",
        "                      let dataURL = reader.result;\n",
        "                      $('#selected-image').attr(\"src\", dataURL);\n",
        "                      base64Image = dataURL.replace(\"data:image/jpeg;base64,\",\"\");\n",
        "                      console.log(base64Image);\n",
        "                    }\n",
        "                    reader.readAsDataURL($(\"#image-selector\")[0].files[0]);\n",
        "                    $(\"#dog-prediction\").text(\"\");\n",
        "                    $(\"#cat-prediction\").text(\"\");\n",
        "                  });\n",
        "\n",
        "                  $(\"#predict-button\").click(function(){\n",
        "                    let message = {\n",
        "                      image: base64Image\n",
        "                    }\n",
        "                    console.log(message);\n",
        "                    $.post(\"http://ba8cf2cc7cdf.ngrok.io\", JSON.stringify(message), function(response){\n",
        "                      $(\"#dog-prediction\").text(response.prediction.dog.toFixed(6));\n",
        "                      $(\"#cat-prediction\").text(response.prediction.cat.toFixed(6));\n",
        "                      console.log(response);\n",
        "                    });\n",
        "                  });       \n",
        "                </script>\n",
        "              </body>'''\n",
        "\n",
        "app.run()"
      ],
      "execution_count": 5,
      "outputs": [
        {
          "output_type": "stream",
          "text": [
            " * Serving Flask app \"__main__\" (lazy loading)\n",
            " * Environment: production\n",
            "\u001b[31m   WARNING: This is a development server. Do not use it in a production deployment.\u001b[0m\n",
            "\u001b[2m   Use a production WSGI server instead.\u001b[0m\n",
            " * Debug mode: off\n"
          ],
          "name": "stdout"
        },
        {
          "output_type": "stream",
          "text": [
            " * Running on http://127.0.0.1:5000/ (Press CTRL+C to quit)\n"
          ],
          "name": "stderr"
        },
        {
          "output_type": "stream",
          "text": [
            " * Running on http://98109bc865b2.ngrok.io\n",
            " * Traffic stats available on http://127.0.0.1:4040\n"
          ],
          "name": "stdout"
        },
        {
          "output_type": "stream",
          "text": [
            "127.0.0.1 - - [13/Apr/2021 22:21:29] \"\u001b[37mGET / HTTP/1.1\u001b[0m\" 200 -\n",
            "127.0.0.1 - - [13/Apr/2021 22:21:30] \"\u001b[33mGET /favicon.ico HTTP/1.1\u001b[0m\" 404 -\n"
          ],
          "name": "stderr"
        }
      ]
    },
    {
      "cell_type": "markdown",
      "metadata": {
        "id": "Xr7HKwYkyiZZ"
      },
      "source": [
        "**How to fix the CORS error**\n",
        "\n",
        "By checking the console on your browser, you can see the status and result of the HTTP requests that you are sending to the web service. If the following CORS error is returned:\n",
        "\n",
        "Access to XMLHttpRequest at 'http://ba8cf2cc7cdf.ngrok.io/' from origin 'http://98109bc865b2.ngrok.io' has been blocked by CORS policy: No 'Access-Control-Allow-Origin' header is present on the requested resource.\n",
        "\n",
        ", it can be solved by adding an extension to the browser. Below tutorial shows how to fix this error.\n",
        "\n",
        "[3 Ways to Fix the CORS Error — and How \n",
        "the Access-Control-Allow-Origin Header \n",
        "Works](https://medium.com/@dtkatz/3-ways-to-fix-the-cors-error-and-how-access-control-allow-origin-works-d97d55946d9#:~:text=The%20error%20stems%20from%20a,the%20browser's%20cookie%20storage%20system.)\n",
        "\n",
        "The way I solved this problem was by adding moesif CORS extension to \n",
        "my Chrome browser and setting its status to ON. After refreshing my backend and frontend services, I could receive the prediction for my input image."
      ]
    }
  ]
}